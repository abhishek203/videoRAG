{
 "cells": [
  {
   "cell_type": "code",
   "execution_count": 7,
   "metadata": {},
   "outputs": [],
   "source": [
    "import os\n",
    "from dotenv import load_dotenv\n",
    "from openai import AzureOpenAI\n",
    "\n",
    "# Load the environment variables from the .env file\n",
    "load_dotenv()\n",
    "\n",
    "api_key = os.getenv('W_KEY')\n",
    "base_url = os.getenv('W_URL')\n",
    "api_version = os.getenv('W_API_VERSION')\n",
    "\n",
    "client = AzureOpenAI(\n",
    "    api_version=api_version,\n",
    "    api_key=api_key,\n",
    "    base_url=base_url\n",
    ")\n"
   ]
  },
  {
   "cell_type": "code",
   "execution_count": 8,
   "metadata": {},
   "outputs": [
    {
     "name": "stdout",
     "output_type": "stream",
     "text": [
      "data/28 How to Create new user in salesforce lightning experience _ Salesforce Training Videos.mp4\n",
      "TranscriptionVerbose(duration=397.1700134277344, language='english', text=\"Hello friends, I am Sanjay Gupta, I welcome you on Sanjay Gupta Tech School. In this video, I'm going to demonstrate to you how you can create new users in Salesforce. If you want to follow Salesforce training videos, you can search me on YouTube by my name Sanjay Gupta and you can follow my YouTube channel. So now I'm logged into Salesforce lightning. So first, first of all, if you want to see your existing users, so in quick find, you can type user. So users link will be there, you can click on that, so that you can view all existing users or a particular org. So in my org, you can see these users are available. So this is my current user, with which I am logged in. And my profile is system admin, then four other users are available here. And all are active. So with the help of this list view, you can filter your search. So like if you want to see active users, admin users, and if you want to see all users, so accordingly, you can click like, if I want to see admin users only, so I selected admin users. So it will show all the users whose profile is system admin. If you want to view all users, then you can click here. And for active ones, you can select active users. Also, you can edit and create new views. Then if you want to open any user, like if I click on this, so it will open up and you can see all the details related to this user. All the related lists are available here. Now if you want to edit the details, you can click here. If you want to change the password, you can select this option. So an email will be sent to the email ID that is available with this user, then you can change your password. So this is this is about existing users. Now we are going to create new user. So before that, I'm going to click on this add multiple users. So here we can see how many users are available for a particular license. So these are the details you can go through with these details in your org so that you can know how much licenses are available to create users. So if you want to create multiple users, you can use this option. So you can select the license and accordingly you can create multiple users. At right hand side, you can see role hierarchy is available. So you can find a particular user for a particular role. But right now we are going to create only one user. So now I'm clicking on this button new user. So here we need to fill essential details which are marked as read. So let's say first name is Vikas, last name is Gupta, alias is automatically created. Then I'm giving my email ID because I'm going to control this user and username will be vikaskupta.techschool because Sanjay Gupta is already taken. Nickname you can choose as per your requirement or you can use this default. Then you can choose a particular role. So I'm selecting non-specified. Then user license. So right now I'm selecting Salesforce. Then profile I'm selecting standard user and rest of the things you can choose as per your requirement. Like if you want, this user will be for marketing user, offline user, knowledge user, flow user, service cloud user. So these are the different settings which you can later on enable as per your requirement and rest of the things are filled which are required. So now when I click on save, so it will throw an email to the email ID which I provided so that we can set the password so that we can log in later on. So now I'm moving to my email ID. So here you can see welcome email is available. So here it is. Now you can see you will receive the URL through which you can open the login window. This will be the username and by clicking on this button, verify account, we can set the password. So here change your password window is available. So make sure to include at least eight characters, one letter and one number. So you need to fill this so that your new password will be created. So I filled the desired password and security question answer. So by creating user, you can choose a particular password and security question answer. So now I'm logged in with the new user. So if I click here, I can see new username and if I click here, so it will open up the details of that user with which I am logged in. So you can see name, email and other details are available here. Now if I move to set up, so now I'm going to search users so that I can view existing user details. So you will see this new user will be there. So here you can see this new user is created profile is standard user. If I if I click on this username, so here it is, all the details are available. If you want to change something, you can click on edit button and you can change the desired thing as per your requirement. So I hope you understood how we can create new users in Salesforce Lightning. If you want to watch more Salesforce training videos, you can search my name Sanjay Gupta on YouTube and you can follow my YouTube channel. Thank you for watching this video.\", segments=[TranscriptionSegment(id=0, avg_logprob=-0.2805026173591614, compression_ratio=1.6937799453735352, end=6.079999923706055, no_speech_prob=0.16397961974143982, seek=0, start=0.0, temperature=0.0, text=' Hello friends, I am Sanjay Gupta, I welcome you on Sanjay Gupta Tech School.', tokens=[50364, 2425, 1855, 11, 286, 669, 5271, 46451, 2694, 47366, 11, 286, 2928, 291, 322, 5271, 46451, 2694, 47366, 13795, 5070, 13, 50668]), TranscriptionSegment(id=1, avg_logprob=-0.2805026173591614, compression_ratio=1.6937799453735352, end=11.720000267028809, no_speech_prob=0.16397961974143982, seek=0, start=6.079999923706055, temperature=0.0, text=\" In this video, I'm going to demonstrate to you how you can create new users in Salesforce.\", tokens=[50668, 682, 341, 960, 11, 286, 478, 516, 281, 11698, 281, 291, 577, 291, 393, 1884, 777, 5022, 294, 40398, 13, 50950]), TranscriptionSegment(id=2, avg_logprob=-0.2805026173591614, compression_ratio=1.6937799453735352, end=15.359999656677246, no_speech_prob=0.16397961974143982, seek=0, start=11.720000267028809, temperature=0.0, text=' If you want to follow Salesforce training videos, you can search me on YouTube by my', tokens=[50950, 759, 291, 528, 281, 1524, 40398, 3097, 2145, 11, 291, 393, 3164, 385, 322, 3088, 538, 452, 51132]), TranscriptionSegment(id=3, avg_logprob=-0.2805026173591614, compression_ratio=1.6937799453735352, end=20.520000457763672, no_speech_prob=0.16397961974143982, seek=0, start=15.359999656677246, temperature=0.0, text=' name Sanjay Gupta and you can follow my YouTube channel.', tokens=[51132, 1315, 5271, 46451, 2694, 47366, 293, 291, 393, 1524, 452, 3088, 2269, 13, 51390]), TranscriptionSegment(id=4, avg_logprob=-0.2805026173591614, compression_ratio=1.6937799453735352, end=26.15999984741211, no_speech_prob=0.16397961974143982, seek=0, start=20.520000457763672, temperature=0.0, text=\" So now I'm logged into Salesforce lightning.\", tokens=[51390, 407, 586, 286, 478, 27231, 666, 40398, 16589, 13, 51672]), TranscriptionSegment(id=5, avg_logprob=-0.2609529495239258, compression_ratio=1.6942675113677979, end=34.0, no_speech_prob=0.10237818956375122, seek=2616, start=26.15999984741211, temperature=0.0, text=' So first, first of all, if you want to see your existing users, so in quick find, you', tokens=[50364, 407, 700, 11, 700, 295, 439, 11, 498, 291, 528, 281, 536, 428, 6741, 5022, 11, 370, 294, 1702, 915, 11, 291, 50756]), TranscriptionSegment(id=6, avg_logprob=-0.2609529495239258, compression_ratio=1.6942675113677979, end=37.060001373291016, no_speech_prob=0.10237818956375122, seek=2616, start=34.0, temperature=0.0, text=' can type user.', tokens=[50756, 393, 2010, 4195, 13, 50909]), TranscriptionSegment(id=7, avg_logprob=-0.2609529495239258, compression_ratio=1.6942675113677979, end=42.439998626708984, no_speech_prob=0.10237818956375122, seek=2616, start=37.060001373291016, temperature=0.0, text=' So users link will be there, you can click on that, so that you can view all existing', tokens=[50909, 407, 5022, 2113, 486, 312, 456, 11, 291, 393, 2052, 322, 300, 11, 370, 300, 291, 393, 1910, 439, 6741, 51178]), TranscriptionSegment(id=8, avg_logprob=-0.2609529495239258, compression_ratio=1.6942675113677979, end=46.29999923706055, no_speech_prob=0.10237818956375122, seek=2616, start=42.439998626708984, temperature=0.0, text=' users or a particular org.', tokens=[51178, 5022, 420, 257, 1729, 14045, 13, 51371]), TranscriptionSegment(id=9, avg_logprob=-0.2609529495239258, compression_ratio=1.6942675113677979, end=50.20000076293945, no_speech_prob=0.10237818956375122, seek=2616, start=46.29999923706055, temperature=0.0, text=' So in my org, you can see these users are available.', tokens=[51371, 407, 294, 452, 14045, 11, 291, 393, 536, 613, 5022, 366, 2435, 13, 51566]), TranscriptionSegment(id=10, avg_logprob=-0.25876951217651367, compression_ratio=1.7853881120681763, end=55.560001373291016, no_speech_prob=0.2199481576681137, seek=5020, start=50.20000076293945, temperature=0.0, text=' So this is my current user, with which I am logged in.', tokens=[50364, 407, 341, 307, 452, 2190, 4195, 11, 365, 597, 286, 669, 27231, 294, 13, 50632]), TranscriptionSegment(id=11, avg_logprob=-0.25876951217651367, compression_ratio=1.7853881120681763, end=61.63999938964844, no_speech_prob=0.2199481576681137, seek=5020, start=55.560001373291016, temperature=0.0, text=' And my profile is system admin, then four other users are available here.', tokens=[50632, 400, 452, 7964, 307, 1185, 24236, 11, 550, 1451, 661, 5022, 366, 2435, 510, 13, 50936]), TranscriptionSegment(id=12, avg_logprob=-0.25876951217651367, compression_ratio=1.7853881120681763, end=62.720001220703125, no_speech_prob=0.2199481576681137, seek=5020, start=61.63999938964844, temperature=0.0, text=' And all are active.', tokens=[50936, 400, 439, 366, 4967, 13, 50990]), TranscriptionSegment(id=13, avg_logprob=-0.25876951217651367, compression_ratio=1.7853881120681763, end=67.31999969482422, no_speech_prob=0.2199481576681137, seek=5020, start=62.720001220703125, temperature=0.0, text=' So with the help of this list view, you can filter your search.', tokens=[50990, 407, 365, 264, 854, 295, 341, 1329, 1910, 11, 291, 393, 6608, 428, 3164, 13, 51220]), TranscriptionSegment(id=14, avg_logprob=-0.25876951217651367, compression_ratio=1.7853881120681763, end=73.16000366210938, no_speech_prob=0.2199481576681137, seek=5020, start=67.31999969482422, temperature=0.0, text=' So like if you want to see active users, admin users, and if you want to see all users, so', tokens=[51220, 407, 411, 498, 291, 528, 281, 536, 4967, 5022, 11, 24236, 5022, 11, 293, 498, 291, 528, 281, 536, 439, 5022, 11, 370, 51512]), TranscriptionSegment(id=15, avg_logprob=-0.25876951217651367, compression_ratio=1.7853881120681763, end=78.5199966430664, no_speech_prob=0.2199481576681137, seek=5020, start=73.16000366210938, temperature=0.0, text=' accordingly, you can click like, if I want to see admin users only, so I selected admin', tokens=[51512, 19717, 11, 291, 393, 2052, 411, 11, 498, 286, 528, 281, 536, 24236, 5022, 787, 11, 370, 286, 8209, 24236, 51780]), TranscriptionSegment(id=16, avg_logprob=-0.28793320059776306, compression_ratio=1.7525252103805542, end=79.5199966430664, no_speech_prob=0.07452793419361115, seek=7852, start=78.5199966430664, temperature=0.0, text=' users.', tokens=[50364, 5022, 13, 50414]), TranscriptionSegment(id=17, avg_logprob=-0.28793320059776306, compression_ratio=1.7525252103805542, end=83.4800033569336, no_speech_prob=0.07452793419361115, seek=7852, start=79.5199966430664, temperature=0.0, text=' So it will show all the users whose profile is system admin.', tokens=[50414, 407, 309, 486, 855, 439, 264, 5022, 6104, 7964, 307, 1185, 24236, 13, 50612]), TranscriptionSegment(id=18, avg_logprob=-0.28793320059776306, compression_ratio=1.7525252103805542, end=87.16000366210938, no_speech_prob=0.07452793419361115, seek=7852, start=83.4800033569336, temperature=0.0, text=' If you want to view all users, then you can click here.', tokens=[50612, 759, 291, 528, 281, 1910, 439, 5022, 11, 550, 291, 393, 2052, 510, 13, 50796]), TranscriptionSegment(id=19, avg_logprob=-0.28793320059776306, compression_ratio=1.7525252103805542, end=90.23999786376953, no_speech_prob=0.07452793419361115, seek=7852, start=87.16000366210938, temperature=0.0, text=' And for active ones, you can select active users.', tokens=[50796, 400, 337, 4967, 2306, 11, 291, 393, 3048, 4967, 5022, 13, 50950]), TranscriptionSegment(id=20, avg_logprob=-0.28793320059776306, compression_ratio=1.7525252103805542, end=94.76000213623047, no_speech_prob=0.07452793419361115, seek=7852, start=90.23999786376953, temperature=0.0, text=' Also, you can edit and create new views.', tokens=[50950, 2743, 11, 291, 393, 8129, 293, 1884, 777, 6809, 13, 51176]), TranscriptionSegment(id=21, avg_logprob=-0.28793320059776306, compression_ratio=1.7525252103805542, end=101.87999725341797, no_speech_prob=0.07452793419361115, seek=7852, start=94.76000213623047, temperature=0.0, text=' Then if you want to open any user, like if I click on this, so it will open up and you', tokens=[51176, 1396, 498, 291, 528, 281, 1269, 604, 4195, 11, 411, 498, 286, 2052, 322, 341, 11, 370, 309, 486, 1269, 493, 293, 291, 51532]), TranscriptionSegment(id=22, avg_logprob=-0.28793320059776306, compression_ratio=1.7525252103805542, end=106.80000305175781, no_speech_prob=0.07452793419361115, seek=7852, start=101.87999725341797, temperature=0.0, text=' can see all the details related to this user.', tokens=[51532, 393, 536, 439, 264, 4365, 4077, 281, 341, 4195, 13, 51778]), TranscriptionSegment(id=23, avg_logprob=-0.238525390625, compression_ratio=1.8730769157409668, end=109.5199966430664, no_speech_prob=0.21633955836296082, seek=10680, start=106.80000305175781, temperature=0.0, text=' All the related lists are available here.', tokens=[50364, 1057, 264, 4077, 14511, 366, 2435, 510, 13, 50500]), TranscriptionSegment(id=24, avg_logprob=-0.238525390625, compression_ratio=1.8730769157409668, end=112.72000122070312, no_speech_prob=0.21633955836296082, seek=10680, start=109.5199966430664, temperature=0.0, text=' Now if you want to edit the details, you can click here.', tokens=[50500, 823, 498, 291, 528, 281, 8129, 264, 4365, 11, 291, 393, 2052, 510, 13, 50660]), TranscriptionSegment(id=25, avg_logprob=-0.238525390625, compression_ratio=1.8730769157409668, end=115.72000122070312, no_speech_prob=0.21633955836296082, seek=10680, start=112.72000122070312, temperature=0.0, text=' If you want to change the password, you can select this option.', tokens=[50660, 759, 291, 528, 281, 1319, 264, 11524, 11, 291, 393, 3048, 341, 3614, 13, 50810]), TranscriptionSegment(id=26, avg_logprob=-0.238525390625, compression_ratio=1.8730769157409668, end=120.5199966430664, no_speech_prob=0.21633955836296082, seek=10680, start=115.72000122070312, temperature=0.0, text=' So an email will be sent to the email ID that is available with this user, then you can', tokens=[50810, 407, 364, 3796, 486, 312, 2279, 281, 264, 3796, 7348, 300, 307, 2435, 365, 341, 4195, 11, 550, 291, 393, 51050]), TranscriptionSegment(id=27, avg_logprob=-0.238525390625, compression_ratio=1.8730769157409668, end=122.86000061035156, no_speech_prob=0.21633955836296082, seek=10680, start=120.5199966430664, temperature=0.0, text=' change your password.', tokens=[51050, 1319, 428, 11524, 13, 51167]), TranscriptionSegment(id=28, avg_logprob=-0.238525390625, compression_ratio=1.8730769157409668, end=125.5199966430664, no_speech_prob=0.21633955836296082, seek=10680, start=122.86000061035156, temperature=0.0, text=' So this is this is about existing users.', tokens=[51167, 407, 341, 307, 341, 307, 466, 6741, 5022, 13, 51300]), TranscriptionSegment(id=29, avg_logprob=-0.238525390625, compression_ratio=1.8730769157409668, end=127.44000244140625, no_speech_prob=0.21633955836296082, seek=10680, start=125.5199966430664, temperature=0.0, text=' Now we are going to create new user.', tokens=[51300, 823, 321, 366, 516, 281, 1884, 777, 4195, 13, 51396]), TranscriptionSegment(id=30, avg_logprob=-0.238525390625, compression_ratio=1.8730769157409668, end=131.16000366210938, no_speech_prob=0.21633955836296082, seek=10680, start=127.44000244140625, temperature=0.0, text=\" So before that, I'm going to click on this add multiple users.\", tokens=[51396, 407, 949, 300, 11, 286, 478, 516, 281, 2052, 322, 341, 909, 3866, 5022, 13, 51582]), TranscriptionSegment(id=31, avg_logprob=-0.238525390625, compression_ratio=1.8730769157409668, end=136.4199981689453, no_speech_prob=0.21633955836296082, seek=10680, start=131.16000366210938, temperature=0.0, text=' So here we can see how many users are available for a particular license.', tokens=[51582, 407, 510, 321, 393, 536, 577, 867, 5022, 366, 2435, 337, 257, 1729, 10476, 13, 51845]), TranscriptionSegment(id=32, avg_logprob=-0.3366623818874359, compression_ratio=1.95652174949646, end=143.05999755859375, no_speech_prob=0.0016713212244212627, seek=13642, start=137.0399932861328, temperature=0.0, text=' So these are the details you can go through with these details in your org so that you', tokens=[50395, 407, 613, 366, 264, 4365, 291, 393, 352, 807, 365, 613, 4365, 294, 428, 14045, 370, 300, 291, 50696]), TranscriptionSegment(id=33, avg_logprob=-0.3366623818874359, compression_ratio=1.95652174949646, end=148.9600067138672, no_speech_prob=0.0016713212244212627, seek=13642, start=143.05999755859375, temperature=0.0, text=' can know how much licenses are available to create users.', tokens=[50696, 393, 458, 577, 709, 32821, 366, 2435, 281, 1884, 5022, 13, 50991]), TranscriptionSegment(id=34, avg_logprob=-0.3366623818874359, compression_ratio=1.95652174949646, end=155.6199951171875, no_speech_prob=0.0016713212244212627, seek=13642, start=148.9600067138672, temperature=0.0, text=' So if you want to create multiple users, you can use this option.', tokens=[50991, 407, 498, 291, 528, 281, 1884, 3866, 5022, 11, 291, 393, 764, 341, 3614, 13, 51324]), TranscriptionSegment(id=35, avg_logprob=-0.3366623818874359, compression_ratio=1.95652174949646, end=159.33999633789062, no_speech_prob=0.0016713212244212627, seek=13642, start=155.6199951171875, temperature=0.0, text=' So you can select the license and accordingly you can create multiple users.', tokens=[51324, 407, 291, 393, 3048, 264, 10476, 293, 19717, 291, 393, 1884, 3866, 5022, 13, 51510]), TranscriptionSegment(id=36, avg_logprob=-0.3366623818874359, compression_ratio=1.95652174949646, end=161.86000061035156, no_speech_prob=0.0016713212244212627, seek=13642, start=159.33999633789062, temperature=0.0, text=' At right hand side, you can see role hierarchy is available.', tokens=[51510, 1711, 558, 1011, 1252, 11, 291, 393, 536, 3090, 22333, 307, 2435, 13, 51636]), TranscriptionSegment(id=37, avg_logprob=-0.3366623818874359, compression_ratio=1.95652174949646, end=166.05999755859375, no_speech_prob=0.0016713212244212627, seek=13642, start=161.86000061035156, temperature=0.0, text=' So you can find a particular user for a particular role.', tokens=[51636, 407, 291, 393, 915, 257, 1729, 4195, 337, 257, 1729, 3090, 13, 51846]), TranscriptionSegment(id=38, avg_logprob=-0.3088096082210541, compression_ratio=1.470588207244873, end=168.5, no_speech_prob=0.0209292434155941, seek=16606, start=166.6999969482422, temperature=0.0, text=' But right now we are going to create only one user.', tokens=[50396, 583, 558, 586, 321, 366, 516, 281, 1884, 787, 472, 4195, 13, 50486]), TranscriptionSegment(id=39, avg_logprob=-0.3088096082210541, compression_ratio=1.470588207244873, end=173.5399932861328, no_speech_prob=0.0209292434155941, seek=16606, start=168.5, temperature=0.0, text=\" So now I'm clicking on this button new user.\", tokens=[50486, 407, 586, 286, 478, 9697, 322, 341, 2960, 777, 4195, 13, 50738]), TranscriptionSegment(id=40, avg_logprob=-0.3088096082210541, compression_ratio=1.470588207244873, end=177.94000244140625, no_speech_prob=0.0209292434155941, seek=16606, start=173.5399932861328, temperature=0.0, text=' So here we need to fill essential details which are marked as read.', tokens=[50738, 407, 510, 321, 643, 281, 2836, 7115, 4365, 597, 366, 12658, 382, 1401, 13, 50958]), TranscriptionSegment(id=41, avg_logprob=-0.3088096082210541, compression_ratio=1.470588207244873, end=185.77999877929688, no_speech_prob=0.0209292434155941, seek=16606, start=177.94000244140625, temperature=0.0, text=\" So let's say first name is Vikas, last name is Gupta, alias is automatically created.\", tokens=[50958, 407, 718, 311, 584, 700, 1315, 307, 29465, 296, 11, 1036, 1315, 307, 2694, 47366, 11, 419, 4609, 307, 6772, 2942, 13, 51350]), TranscriptionSegment(id=42, avg_logprob=-0.37588390707969666, compression_ratio=1.5257731676101685, end=196.77999877929688, no_speech_prob=0.4575406014919281, seek=18578, start=185.77999877929688, temperature=0.0, text=\" Then I'm giving my email ID because I'm going to control this user and username will be\", tokens=[50364, 1396, 286, 478, 2902, 452, 3796, 7348, 570, 286, 478, 516, 281, 1969, 341, 4195, 293, 30351, 486, 312, 50914]), TranscriptionSegment(id=43, avg_logprob=-0.37588390707969666, compression_ratio=1.5257731676101685, end=201.33999633789062, no_speech_prob=0.4575406014919281, seek=18578, start=196.77999877929688, temperature=0.0, text=' vikaskupta.techschool because Sanjay Gupta is already taken.', tokens=[50914, 371, 1035, 3863, 84, 47366, 13, 25970, 22779, 570, 5271, 46451, 2694, 47366, 307, 1217, 2726, 13, 51142]), TranscriptionSegment(id=44, avg_logprob=-0.37588390707969666, compression_ratio=1.5257731676101685, end=207.25999450683594, no_speech_prob=0.4575406014919281, seek=18578, start=201.33999633789062, temperature=0.0, text=' Nickname you can choose as per your requirement or you can use this default.', tokens=[51142, 9449, 16344, 291, 393, 2826, 382, 680, 428, 11695, 420, 291, 393, 764, 341, 7576, 13, 51438]), TranscriptionSegment(id=45, avg_logprob=-0.37588390707969666, compression_ratio=1.5257731676101685, end=209.17999267578125, no_speech_prob=0.4575406014919281, seek=18578, start=207.25999450683594, temperature=0.0, text=' Then you can choose a particular role.', tokens=[51438, 1396, 291, 393, 2826, 257, 1729, 3090, 13, 51534]), TranscriptionSegment(id=46, avg_logprob=-0.37588390707969666, compression_ratio=1.5257731676101685, end=213.02000427246094, no_speech_prob=0.4575406014919281, seek=18578, start=209.17999267578125, temperature=0.0, text=\" So I'm selecting non-specified.\", tokens=[51534, 407, 286, 478, 18182, 2107, 12, 7053, 66, 2587, 13, 51726]), TranscriptionSegment(id=47, avg_logprob=-0.3621111810207367, compression_ratio=1.826839804649353, end=214.13999938964844, no_speech_prob=0.07478010654449463, seek=21302, start=213.02000427246094, temperature=0.0, text=' Then user license.', tokens=[50364, 1396, 4195, 10476, 13, 50420]), TranscriptionSegment(id=48, avg_logprob=-0.3621111810207367, compression_ratio=1.826839804649353, end=217.05999755859375, no_speech_prob=0.07478010654449463, seek=21302, start=214.13999938964844, temperature=0.0, text=\" So right now I'm selecting Salesforce.\", tokens=[50420, 407, 558, 586, 286, 478, 18182, 40398, 13, 50566]), TranscriptionSegment(id=49, avg_logprob=-0.3621111810207367, compression_ratio=1.826839804649353, end=222.17999267578125, no_speech_prob=0.07478010654449463, seek=21302, start=217.05999755859375, temperature=0.0, text=\" Then profile I'm selecting standard user and rest of the things you can choose as per your\", tokens=[50566, 1396, 7964, 286, 478, 18182, 3832, 4195, 293, 1472, 295, 264, 721, 291, 393, 2826, 382, 680, 428, 50822]), TranscriptionSegment(id=50, avg_logprob=-0.3621111810207367, compression_ratio=1.826839804649353, end=223.17999267578125, no_speech_prob=0.07478010654449463, seek=21302, start=222.17999267578125, temperature=0.0, text=' requirement.', tokens=[50822, 11695, 13, 50872]), TranscriptionSegment(id=51, avg_logprob=-0.3621111810207367, compression_ratio=1.826839804649353, end=228.89999389648438, no_speech_prob=0.07478010654449463, seek=21302, start=223.17999267578125, temperature=0.0, text=' Like if you want, this user will be for marketing user, offline user, knowledge user, flow user,', tokens=[50872, 1743, 498, 291, 528, 11, 341, 4195, 486, 312, 337, 6370, 4195, 11, 21857, 4195, 11, 3601, 4195, 11, 3095, 4195, 11, 51158]), TranscriptionSegment(id=52, avg_logprob=-0.3621111810207367, compression_ratio=1.826839804649353, end=230.02000427246094, no_speech_prob=0.07478010654449463, seek=21302, start=228.89999389648438, temperature=0.0, text=' service cloud user.', tokens=[51158, 2643, 4588, 4195, 13, 51214]), TranscriptionSegment(id=53, avg_logprob=-0.3621111810207367, compression_ratio=1.826839804649353, end=236.05999755859375, no_speech_prob=0.07478010654449463, seek=21302, start=230.02000427246094, temperature=0.0, text=' So these are the different settings which you can later on enable as per your requirement', tokens=[51214, 407, 613, 366, 264, 819, 6257, 597, 291, 393, 1780, 322, 9528, 382, 680, 428, 11695, 51516]), TranscriptionSegment(id=54, avg_logprob=-0.3621111810207367, compression_ratio=1.826839804649353, end=240.05999755859375, no_speech_prob=0.07478010654449463, seek=21302, start=236.05999755859375, temperature=0.0, text=' and rest of the things are filled which are required.', tokens=[51516, 293, 1472, 295, 264, 721, 366, 6412, 597, 366, 4739, 13, 51716]), TranscriptionSegment(id=55, avg_logprob=-0.2603372037410736, compression_ratio=1.5533332824707031, end=248.5399932861328, no_speech_prob=0.08911427110433578, seek=24006, start=240.10000610351562, temperature=0.0, text=' So now when I click on save, so it will throw an email to the email ID which I provided', tokens=[50366, 407, 586, 562, 286, 2052, 322, 3155, 11, 370, 309, 486, 3507, 364, 3796, 281, 264, 3796, 7348, 597, 286, 5649, 50788]), TranscriptionSegment(id=56, avg_logprob=-0.2603372037410736, compression_ratio=1.5533332824707031, end=254.25999450683594, no_speech_prob=0.08911427110433578, seek=24006, start=248.5399932861328, temperature=0.0, text=' so that we can set the password so that we can log in later on.', tokens=[50788, 370, 300, 321, 393, 992, 264, 11524, 370, 300, 321, 393, 3565, 294, 1780, 322, 13, 51074]), TranscriptionSegment(id=57, avg_logprob=-0.2603372037410736, compression_ratio=1.5533332824707031, end=258.17999267578125, no_speech_prob=0.08911427110433578, seek=24006, start=254.25999450683594, temperature=0.0, text=\" So now I'm moving to my email ID.\", tokens=[51074, 407, 586, 286, 478, 2684, 281, 452, 3796, 7348, 13, 51270]), TranscriptionSegment(id=58, avg_logprob=-0.2603372037410736, compression_ratio=1.5533332824707031, end=264.3399963378906, no_speech_prob=0.08911427110433578, seek=24006, start=258.17999267578125, temperature=0.0, text=' So here you can see welcome email is available.', tokens=[51270, 407, 510, 291, 393, 536, 2928, 3796, 307, 2435, 13, 51578]), TranscriptionSegment(id=59, avg_logprob=-0.3175828456878662, compression_ratio=1.5797101259231567, end=267.5, no_speech_prob=0.006871063262224197, seek=26434, start=264.3399963378906, temperature=0.0, text=' So here it is.', tokens=[50364, 407, 510, 309, 307, 13, 50522]), TranscriptionSegment(id=60, avg_logprob=-0.3175828456878662, compression_ratio=1.5797101259231567, end=274.5400085449219, no_speech_prob=0.006871063262224197, seek=26434, start=267.5, temperature=0.0, text=' Now you can see you will receive the URL through which you can open the login window.', tokens=[50522, 823, 291, 393, 536, 291, 486, 4774, 264, 12905, 807, 597, 291, 393, 1269, 264, 24276, 4910, 13, 50874]), TranscriptionSegment(id=61, avg_logprob=-0.3175828456878662, compression_ratio=1.5797101259231567, end=280.5, no_speech_prob=0.006871063262224197, seek=26434, start=274.5400085449219, temperature=0.0, text=' This will be the username and by clicking on this button, verify account, we can set', tokens=[50874, 639, 486, 312, 264, 30351, 293, 538, 9697, 322, 341, 2960, 11, 16888, 2696, 11, 321, 393, 992, 51172]), TranscriptionSegment(id=62, avg_logprob=-0.3175828456878662, compression_ratio=1.5797101259231567, end=285.4599914550781, no_speech_prob=0.006871063262224197, seek=26434, start=280.5, temperature=0.0, text=' the password.', tokens=[51172, 264, 11524, 13, 51420]), TranscriptionSegment(id=63, avg_logprob=-0.3175828456878662, compression_ratio=1.5797101259231567, end=288.82000732421875, no_speech_prob=0.006871063262224197, seek=26434, start=285.4599914550781, temperature=0.0, text=' So here change your password window is available.', tokens=[51420, 407, 510, 1319, 428, 11524, 4910, 307, 2435, 13, 51588]), TranscriptionSegment(id=64, avg_logprob=-0.3175828456878662, compression_ratio=1.5797101259231567, end=294.2200012207031, no_speech_prob=0.006871063262224197, seek=26434, start=288.82000732421875, temperature=0.0, text=' So make sure to include at least eight characters, one letter and one number.', tokens=[51588, 407, 652, 988, 281, 4090, 412, 1935, 3180, 4342, 11, 472, 5063, 293, 472, 1230, 13, 51858]), TranscriptionSegment(id=65, avg_logprob=-0.22691760957241058, compression_ratio=1.8253967761993408, end=299.5799865722656, no_speech_prob=0.0021786466240882874, seek=29422, start=294.2200012207031, temperature=0.0, text=' So you need to fill this so that your new password will be created.', tokens=[50364, 407, 291, 643, 281, 2836, 341, 370, 300, 428, 777, 11524, 486, 312, 2942, 13, 50632]), TranscriptionSegment(id=66, avg_logprob=-0.22691760957241058, compression_ratio=1.8253967761993408, end=304.8999938964844, no_speech_prob=0.0021786466240882874, seek=29422, start=299.5799865722656, temperature=0.0, text=' So I filled the desired password and security question answer.', tokens=[50632, 407, 286, 6412, 264, 14721, 11524, 293, 3825, 1168, 1867, 13, 50898]), TranscriptionSegment(id=67, avg_logprob=-0.22691760957241058, compression_ratio=1.8253967761993408, end=312.1000061035156, no_speech_prob=0.0021786466240882874, seek=29422, start=304.8999938964844, temperature=0.0, text=' So by creating user, you can choose a particular password and security question answer.', tokens=[50898, 407, 538, 4084, 4195, 11, 291, 393, 2826, 257, 1729, 11524, 293, 3825, 1168, 1867, 13, 51258]), TranscriptionSegment(id=68, avg_logprob=-0.22691760957241058, compression_ratio=1.8253967761993408, end=315.739990234375, no_speech_prob=0.0021786466240882874, seek=29422, start=312.1000061035156, temperature=0.0, text=\" So now I'm logged in with the new user.\", tokens=[51258, 407, 586, 286, 478, 27231, 294, 365, 264, 777, 4195, 13, 51440]), TranscriptionSegment(id=69, avg_logprob=-0.22691760957241058, compression_ratio=1.8253967761993408, end=323.6199951171875, no_speech_prob=0.0021786466240882874, seek=29422, start=315.739990234375, temperature=0.0, text=' So if I click here, I can see new username and if I click here, so it will open up the', tokens=[51440, 407, 498, 286, 2052, 510, 11, 286, 393, 536, 777, 30351, 293, 498, 286, 2052, 510, 11, 370, 309, 486, 1269, 493, 264, 51834]), TranscriptionSegment(id=70, avg_logprob=-0.29765623807907104, compression_ratio=1.4324324131011963, end=327.0199890136719, no_speech_prob=0.03618399798870087, seek=32362, start=324.0199890136719, temperature=0.0, text=' details of that user with which I am logged in.', tokens=[50384, 4365, 295, 300, 4195, 365, 597, 286, 669, 27231, 294, 13, 50534]), TranscriptionSegment(id=71, avg_logprob=-0.29765623807907104, compression_ratio=1.4324324131011963, end=332.5799865722656, no_speech_prob=0.03618399798870087, seek=32362, start=327.0199890136719, temperature=0.0, text=' So you can see name, email and other details are available here.', tokens=[50534, 407, 291, 393, 536, 1315, 11, 3796, 293, 661, 4365, 366, 2435, 510, 13, 50812]), TranscriptionSegment(id=72, avg_logprob=-0.29765623807907104, compression_ratio=1.4324324131011963, end=345.82000732421875, no_speech_prob=0.03618399798870087, seek=32362, start=332.5799865722656, temperature=0.0, text=\" Now if I move to set up, so now I'm going to search users so that I can view existing\", tokens=[50812, 823, 498, 286, 1286, 281, 992, 493, 11, 370, 586, 286, 478, 516, 281, 3164, 5022, 370, 300, 286, 393, 1910, 6741, 51474]), TranscriptionSegment(id=73, avg_logprob=-0.29765623807907104, compression_ratio=1.4324324131011963, end=352.82000732421875, no_speech_prob=0.03618399798870087, seek=32362, start=345.82000732421875, temperature=0.0, text=' user details.', tokens=[51474, 4195, 4365, 13, 51824]), TranscriptionSegment(id=74, avg_logprob=-0.3155527412891388, compression_ratio=1.7349398136138916, end=358.8999938964844, no_speech_prob=0.00868384912610054, seek=35282, start=352.82000732421875, temperature=0.0, text=' So you will see this new user will be there.', tokens=[50364, 407, 291, 486, 536, 341, 777, 4195, 486, 312, 456, 13, 50668]), TranscriptionSegment(id=75, avg_logprob=-0.3155527412891388, compression_ratio=1.7349398136138916, end=368.0199890136719, no_speech_prob=0.00868384912610054, seek=35282, start=358.8999938964844, temperature=0.0, text=' So here you can see this new user is created profile is standard user.', tokens=[50668, 407, 510, 291, 393, 536, 341, 777, 4195, 307, 2942, 7964, 307, 3832, 4195, 13, 51124]), TranscriptionSegment(id=76, avg_logprob=-0.3155527412891388, compression_ratio=1.7349398136138916, end=375.3399963378906, no_speech_prob=0.00868384912610054, seek=35282, start=368.0199890136719, temperature=0.0, text=' If I if I click on this username, so here it is, all the details are available.', tokens=[51124, 759, 286, 498, 286, 2052, 322, 341, 30351, 11, 370, 510, 309, 307, 11, 439, 264, 4365, 366, 2435, 13, 51490]), TranscriptionSegment(id=77, avg_logprob=-0.3155527412891388, compression_ratio=1.7349398136138916, end=380.4599914550781, no_speech_prob=0.00868384912610054, seek=35282, start=375.3399963378906, temperature=0.0, text=' If you want to change something, you can click on edit button and you can change the desired', tokens=[51490, 759, 291, 528, 281, 1319, 746, 11, 291, 393, 2052, 322, 8129, 2960, 293, 291, 393, 1319, 264, 14721, 51746]), TranscriptionSegment(id=78, avg_logprob=-0.2849768102169037, compression_ratio=1.5464481115341187, end=383.260009765625, no_speech_prob=0.18100492656230927, seek=38046, start=380.4599914550781, temperature=0.0, text=' thing as per your requirement.', tokens=[50364, 551, 382, 680, 428, 11695, 13, 50504]), TranscriptionSegment(id=79, avg_logprob=-0.2849768102169037, compression_ratio=1.5464481115341187, end=388.8999938964844, no_speech_prob=0.18100492656230927, seek=38046, start=383.260009765625, temperature=0.0, text=' So I hope you understood how we can create new users in Salesforce Lightning.', tokens=[50504, 407, 286, 1454, 291, 7320, 577, 321, 393, 1884, 777, 5022, 294, 40398, 28848, 13, 50786]), TranscriptionSegment(id=80, avg_logprob=-0.2849768102169037, compression_ratio=1.5464481115341187, end=392.82000732421875, no_speech_prob=0.18100492656230927, seek=38046, start=388.8999938964844, temperature=0.0, text=' If you want to watch more Salesforce training videos, you can search my name Sanjay Gupta', tokens=[50786, 759, 291, 528, 281, 1159, 544, 40398, 3097, 2145, 11, 291, 393, 3164, 452, 1315, 5271, 46451, 2694, 47366, 50982]), TranscriptionSegment(id=81, avg_logprob=-0.2849768102169037, compression_ratio=1.5464481115341187, end=394.8999938964844, no_speech_prob=0.18100492656230927, seek=38046, start=392.82000732421875, temperature=0.0, text=' on YouTube and you can follow my YouTube channel.', tokens=[50982, 322, 3088, 293, 291, 393, 1524, 452, 3088, 2269, 13, 51086]), TranscriptionSegment(id=82, avg_logprob=-0.2849768102169037, compression_ratio=1.5464481115341187, end=396.6199951171875, no_speech_prob=0.18100492656230927, seek=38046, start=394.8999938964844, temperature=0.0, text=' Thank you for watching this video.', tokens=[51086, 1044, 291, 337, 1976, 341, 960, 13, 51172])], words=None, task='translate')\n"
     ]
    }
   ],
   "source": [
    "data_dir = 'data'\n",
    "transcriptions = {}\n",
    "\n",
    "for filename in os.listdir(data_dir):\n",
    "    if filename.endswith(('.mp3', '.wav', '.m4a', '.mp4')):\n",
    "        file_path = os.path.join(data_dir, filename)\n",
    "        print(file_path)\n",
    "        with open(file_path, 'rb') as audio_file:\n",
    "            transcription = client.audio.transcriptions.create(\n",
    "                model=\"whisper\",\n",
    "                file=audio_file,\n",
    "                response_format=\"verbose_json\",\n",
    "                timestamp_granularities=['segment']\n",
    "            )\n",
    "        transcriptions[filename] = transcription\n",
    "        print(transcription)\n",
    "        # Store the transcription in the vector database"
   ]
  },
  {
   "cell_type": "code",
   "execution_count": 9,
   "metadata": {},
   "outputs": [
    {
     "name": "stdout",
     "output_type": "stream",
     "text": [
      "<class 'dict'>\n"
     ]
    }
   ],
   "source": [
    "print(type(transcriptions))"
   ]
  },
  {
   "cell_type": "code",
   "execution_count": 11,
   "metadata": {},
   "outputs": [
    {
     "name": "stdout",
     "output_type": "stream",
     "text": [
      "28 How to Create new user in salesforce lightning experience _ Salesforce Training Videos.mp4\n"
     ]
    }
   ],
   "source": [
    "for x in transcriptions:\n",
    "    print((x))"
   ]
  },
  {
   "cell_type": "code",
   "execution_count": 12,
   "metadata": {},
   "outputs": [
    {
     "data": {
      "text/plain": [
       "dict_keys(['28 How to Create new user in salesforce lightning experience _ Salesforce Training Videos.mp4'])"
      ]
     },
     "execution_count": 12,
     "metadata": {},
     "output_type": "execute_result"
    }
   ],
   "source": [
    "transcriptions.keys()"
   ]
  },
  {
   "cell_type": "code",
   "execution_count": 21,
   "metadata": {},
   "outputs": [],
   "source": [
    "a = (transcriptions['28 How to Create new user in salesforce lightning experience _ Salesforce Training Videos.mp4'])"
   ]
  },
  {
   "cell_type": "code",
   "execution_count": 26,
   "metadata": {},
   "outputs": [],
   "source": [
    "b = (a.segments)"
   ]
  },
  {
   "cell_type": "code",
   "execution_count": 27,
   "metadata": {},
   "outputs": [
    {
     "data": {
      "text/plain": [
       "TranscriptionSegment(id=0, avg_logprob=-0.2805026173591614, compression_ratio=1.6937799453735352, end=6.079999923706055, no_speech_prob=0.16397961974143982, seek=0, start=0.0, temperature=0.0, text=' Hello friends, I am Sanjay Gupta, I welcome you on Sanjay Gupta Tech School.', tokens=[50364, 2425, 1855, 11, 286, 669, 5271, 46451, 2694, 47366, 11, 286, 2928, 291, 322, 5271, 46451, 2694, 47366, 13795, 5070, 13, 50668])"
      ]
     },
     "execution_count": 27,
     "metadata": {},
     "output_type": "execute_result"
    }
   ],
   "source": [
    "b[0]"
   ]
  },
  {
   "cell_type": "code",
   "execution_count": 30,
   "metadata": {},
   "outputs": [
    {
     "name": "stdout",
     "output_type": "stream",
     "text": [
      " Hello friends, I am Sanjay Gupta, I welcome you on Sanjay Gupta Tech School.\n",
      " In this video, I'm going to demonstrate to you how you can create new users in Salesforce.\n",
      " If you want to follow Salesforce training videos, you can search me on YouTube by my\n",
      " name Sanjay Gupta and you can follow my YouTube channel.\n",
      " So now I'm logged into Salesforce lightning.\n",
      " So first, first of all, if you want to see your existing users, so in quick find, you\n",
      " can type user.\n",
      " So users link will be there, you can click on that, so that you can view all existing\n",
      " users or a particular org.\n",
      " So in my org, you can see these users are available.\n",
      " So this is my current user, with which I am logged in.\n",
      " And my profile is system admin, then four other users are available here.\n",
      " And all are active.\n",
      " So with the help of this list view, you can filter your search.\n",
      " So like if you want to see active users, admin users, and if you want to see all users, so\n",
      " accordingly, you can click like, if I want to see admin users only, so I selected admin\n",
      " users.\n",
      " So it will show all the users whose profile is system admin.\n",
      " If you want to view all users, then you can click here.\n",
      " And for active ones, you can select active users.\n",
      " Also, you can edit and create new views.\n",
      " Then if you want to open any user, like if I click on this, so it will open up and you\n",
      " can see all the details related to this user.\n",
      " All the related lists are available here.\n",
      " Now if you want to edit the details, you can click here.\n",
      " If you want to change the password, you can select this option.\n",
      " So an email will be sent to the email ID that is available with this user, then you can\n",
      " change your password.\n",
      " So this is this is about existing users.\n",
      " Now we are going to create new user.\n",
      " So before that, I'm going to click on this add multiple users.\n",
      " So here we can see how many users are available for a particular license.\n",
      " So these are the details you can go through with these details in your org so that you\n",
      " can know how much licenses are available to create users.\n",
      " So if you want to create multiple users, you can use this option.\n",
      " So you can select the license and accordingly you can create multiple users.\n",
      " At right hand side, you can see role hierarchy is available.\n",
      " So you can find a particular user for a particular role.\n",
      " But right now we are going to create only one user.\n",
      " So now I'm clicking on this button new user.\n",
      " So here we need to fill essential details which are marked as read.\n",
      " So let's say first name is Vikas, last name is Gupta, alias is automatically created.\n",
      " Then I'm giving my email ID because I'm going to control this user and username will be\n",
      " vikaskupta.techschool because Sanjay Gupta is already taken.\n",
      " Nickname you can choose as per your requirement or you can use this default.\n",
      " Then you can choose a particular role.\n",
      " So I'm selecting non-specified.\n",
      " Then user license.\n",
      " So right now I'm selecting Salesforce.\n",
      " Then profile I'm selecting standard user and rest of the things you can choose as per your\n",
      " requirement.\n",
      " Like if you want, this user will be for marketing user, offline user, knowledge user, flow user,\n",
      " service cloud user.\n",
      " So these are the different settings which you can later on enable as per your requirement\n",
      " and rest of the things are filled which are required.\n",
      " So now when I click on save, so it will throw an email to the email ID which I provided\n",
      " so that we can set the password so that we can log in later on.\n",
      " So now I'm moving to my email ID.\n",
      " So here you can see welcome email is available.\n",
      " So here it is.\n",
      " Now you can see you will receive the URL through which you can open the login window.\n",
      " This will be the username and by clicking on this button, verify account, we can set\n",
      " the password.\n",
      " So here change your password window is available.\n",
      " So make sure to include at least eight characters, one letter and one number.\n",
      " So you need to fill this so that your new password will be created.\n",
      " So I filled the desired password and security question answer.\n",
      " So by creating user, you can choose a particular password and security question answer.\n",
      " So now I'm logged in with the new user.\n",
      " So if I click here, I can see new username and if I click here, so it will open up the\n",
      " details of that user with which I am logged in.\n",
      " So you can see name, email and other details are available here.\n",
      " Now if I move to set up, so now I'm going to search users so that I can view existing\n",
      " user details.\n",
      " So you will see this new user will be there.\n",
      " So here you can see this new user is created profile is standard user.\n",
      " If I if I click on this username, so here it is, all the details are available.\n",
      " If you want to change something, you can click on edit button and you can change the desired\n",
      " thing as per your requirement.\n",
      " So I hope you understood how we can create new users in Salesforce Lightning.\n",
      " If you want to watch more Salesforce training videos, you can search my name Sanjay Gupta\n",
      " on YouTube and you can follow my YouTube channel.\n",
      " Thank you for watching this video.\n"
     ]
    }
   ],
   "source": [
    "for x in b:\n",
    "    print(x.text)"
   ]
  },
  {
   "cell_type": "code",
   "execution_count": 31,
   "metadata": {},
   "outputs": [],
   "source": [
    "xy = [{'text': ' details of that user with which I am logged in.', 'filename': '28 How to Create new user in salesforce lightning experience _ Salesforce Training Videos.mp4', 'start_time': 324.0199890136719, 'end_time': 327.0199890136719}, {'text': \" Then profile I'm selecting standard user and rest of the things you can choose as per your\", 'filename': '28 How to Create new user in salesforce lightning experience _ Salesforce Training Videos.mp4', 'start_time': 217.05999755859375, 'end_time': 222.17999267578125}, {'text': ' user details.', 'filename': '28 How to Create new user in salesforce lightning experience _ Salesforce Training Videos.mp4', 'start_time': 345.82000732421875, 'end_time': 352.82000732421875}, {'text': ' If I if I click on this username, so here it is, all the details are available.', 'filename': '28 How to Create new user in salesforce lightning experience _ Salesforce Training Videos.mp4', 'start_time': 368.0199890136719, 'end_time': 375.3399963378906}, {'text': ' So here you can see this new user is created profile is standard user.', 'filename': '28 How to Create new user in salesforce lightning experience _ Salesforce Training Videos.mp4', 'start_time': 358.8999938964844, 'end_time': 368.0199890136719}]"
   ]
  },
  {
   "cell_type": "code",
   "execution_count": 32,
   "metadata": {},
   "outputs": [
    {
     "data": {
      "text/plain": [
       "[{'text': ' details of that user with which I am logged in.',\n",
       "  'filename': '28 How to Create new user in salesforce lightning experience _ Salesforce Training Videos.mp4',\n",
       "  'start_time': 324.0199890136719,\n",
       "  'end_time': 327.0199890136719},\n",
       " {'text': \" Then profile I'm selecting standard user and rest of the things you can choose as per your\",\n",
       "  'filename': '28 How to Create new user in salesforce lightning experience _ Salesforce Training Videos.mp4',\n",
       "  'start_time': 217.05999755859375,\n",
       "  'end_time': 222.17999267578125},\n",
       " {'text': ' user details.',\n",
       "  'filename': '28 How to Create new user in salesforce lightning experience _ Salesforce Training Videos.mp4',\n",
       "  'start_time': 345.82000732421875,\n",
       "  'end_time': 352.82000732421875},\n",
       " {'text': ' If I if I click on this username, so here it is, all the details are available.',\n",
       "  'filename': '28 How to Create new user in salesforce lightning experience _ Salesforce Training Videos.mp4',\n",
       "  'start_time': 368.0199890136719,\n",
       "  'end_time': 375.3399963378906},\n",
       " {'text': ' So here you can see this new user is created profile is standard user.',\n",
       "  'filename': '28 How to Create new user in salesforce lightning experience _ Salesforce Training Videos.mp4',\n",
       "  'start_time': 358.8999938964844,\n",
       "  'end_time': 368.0199890136719}]"
      ]
     },
     "execution_count": 32,
     "metadata": {},
     "output_type": "execute_result"
    }
   ],
   "source": [
    "xy"
   ]
  },
  {
   "cell_type": "code",
   "execution_count": 33,
   "metadata": {},
   "outputs": [],
   "source": [
    "xy = [{'text': ' So first, first of all, if you want to see your existing users, so in quick find, you', 'filename': '28 How to Create new user in salesforce lightning experience _ Salesforce Training Videos.mp4', 'start_time': 26.15999984741211, 'end_time': 34.0}, {'text': ' So you will see this new user will be there.', 'filename': '28 How to Create new user in salesforce lightning experience _ Salesforce Training Videos.mp4', 'start_time': 352.82000732421875, 'end_time': 358.8999938964844}, {'text': ' If you want to view all users, then you can click here.', 'filename': '28 How to Create new user in salesforce lightning experience _ Salesforce Training Videos.mp4', 'start_time': 83.4800033569336, 'end_time': 87.16000366210938}, {'text': ' So here you can see this new user is created profile is standard user.', 'filename': '28 How to Create new user in salesforce lightning experience _ Salesforce Training Videos.mp4', 'start_time': 358.8999938964844, 'end_time': 368.0199890136719}, {'text': \" So now I'm logged in with the new user.\", 'filename': '28 How to Create new user in salesforce lightning experience _ Salesforce Training Videos.mp4', 'start_time': 312.1000061035156, 'end_time': 315.739990234375}]"
   ]
  },
  {
   "cell_type": "code",
   "execution_count": 35,
   "metadata": {},
   "outputs": [
    {
     "data": {
      "text/plain": [
       "[{'text': ' So first, first of all, if you want to see your existing users, so in quick find, you',\n",
       "  'filename': '28 How to Create new user in salesforce lightning experience _ Salesforce Training Videos.mp4',\n",
       "  'start_time': 26.15999984741211,\n",
       "  'end_time': 34.0},\n",
       " {'text': ' So you will see this new user will be there.',\n",
       "  'filename': '28 How to Create new user in salesforce lightning experience _ Salesforce Training Videos.mp4',\n",
       "  'start_time': 352.82000732421875,\n",
       "  'end_time': 358.8999938964844},\n",
       " {'text': ' If you want to view all users, then you can click here.',\n",
       "  'filename': '28 How to Create new user in salesforce lightning experience _ Salesforce Training Videos.mp4',\n",
       "  'start_time': 83.4800033569336,\n",
       "  'end_time': 87.16000366210938},\n",
       " {'text': ' So here you can see this new user is created profile is standard user.',\n",
       "  'filename': '28 How to Create new user in salesforce lightning experience _ Salesforce Training Videos.mp4',\n",
       "  'start_time': 358.8999938964844,\n",
       "  'end_time': 368.0199890136719},\n",
       " {'text': \" So now I'm logged in with the new user.\",\n",
       "  'filename': '28 How to Create new user in salesforce lightning experience _ Salesforce Training Videos.mp4',\n",
       "  'start_time': 312.1000061035156,\n",
       "  'end_time': 315.739990234375}]"
      ]
     },
     "execution_count": 35,
     "metadata": {},
     "output_type": "execute_result"
    }
   ],
   "source": [
    "xy"
   ]
  }
 ],
 "metadata": {
  "kernelspec": {
   "display_name": "webvoyager",
   "language": "python",
   "name": "python3"
  },
  "language_info": {
   "codemirror_mode": {
    "name": "ipython",
    "version": 3
   },
   "file_extension": ".py",
   "mimetype": "text/x-python",
   "name": "python",
   "nbconvert_exporter": "python",
   "pygments_lexer": "ipython3",
   "version": "3.12.6"
  }
 },
 "nbformat": 4,
 "nbformat_minor": 2
}
